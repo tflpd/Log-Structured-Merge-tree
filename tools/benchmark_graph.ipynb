{
 "cells": [
  {
   "cell_type": "code",
   "execution_count": 17,
   "metadata": {},
   "outputs": [
    {
     "data": {
      "text/plain": [
       "<matplotlib.legend.Legend at 0x7f6075d8aa58>"
      ]
     },
     "execution_count": 17,
     "metadata": {},
     "output_type": "execute_result"
    },
    {
     "data": {
      "image/png": "[encoded data removed]",
      "text/plain": [
       "<Figure size 432x288 with 1 Axes>"
      ]
     },
     "metadata": {
      "needs_background": "light"
     },
     "output_type": "display_data"
    }
   ],
   "source": [
    "import matplotlib.pyplot as plt\n",
    "\n",
    "# first benchmark - relationship between latency and maximum RUNs before merging\n",
    "xs = [2, 4, 6, 8, 10]\n",
    "ys1 = [218, 222, 206, 226, 214]\n",
    "ys2 = [402, 421, 421, 433, 415]\n",
    "ys3 = [561, 548, 549, 550, 552]\n",
    "\n",
    "fig, ax = plt.subplots()\n",
    "ax.plot(xs, ys1, marker='o', markerfacecolor='black', markersize=7, color='olive', linewidth=3, label=\"read heavy(.8)\")\n",
    "ax.plot(xs, ys2, marker='o', markerfacecolor='black', markersize=7, color='yellow', linewidth=3, label=\"read-write balanced(.5)\")\n",
    "ax.plot(xs, ys3, marker='o', markerfacecolor='black', markersize=7, color='skyblue', linewidth=3, label=\"write heavy(.2)\")\n",
    "\n",
    "# plt.set_title('Latency vs Maximum Runs before merging')\n",
    "plt.title('Latency(s) vs Maximum Runs Before Merging')\n",
    "plt.legend()"
   ]
  },
  {
   "cell_type": "code",
   "execution_count": 18,
   "metadata": {},
   "outputs": [
    {
     "data": {
      "text/html": [
       "<div>\n",
       "<style scoped>\n",
       "    .dataframe tbody tr th:only-of-type {\n",
       "        vertical-align: middle;\n",
       "    }\n",
       "\n",
       "    .dataframe tbody tr th {\n",
       "        vertical-align: top;\n",
       "    }\n",
       "\n",
       "    .dataframe thead th {\n",
       "        text-align: right;\n",
       "    }\n",
       "</style>\n",
       "<table border=\"1\" class=\"dataframe\">\n",
       "  <thead>\n",
       "    <tr style=\"text-align: right;\">\n",
       "      <th></th>\n",
       "      <th>read heavy(.8)</th>\n",
       "      <th>read-write balanced(.5)</th>\n",
       "      <th>write heavy(.2)</th>\n",
       "    </tr>\n",
       "  </thead>\n",
       "  <tbody>\n",
       "    <tr>\n",
       "      <th>maxi 2 Runs/Level</th>\n",
       "      <td>218</td>\n",
       "      <td>402</td>\n",
       "      <td>561</td>\n",
       "    </tr>\n",
       "    <tr>\n",
       "      <th>maxi 4 Runs/Level</th>\n",
       "      <td>222</td>\n",
       "      <td>421</td>\n",
       "      <td>548</td>\n",
       "    </tr>\n",
       "    <tr>\n",
       "      <th>maxi 6 Runs/Level</th>\n",
       "      <td>206</td>\n",
       "      <td>421</td>\n",
       "      <td>549</td>\n",
       "    </tr>\n",
       "    <tr>\n",
       "      <th>maxi 8 Runs/Level</th>\n",
       "      <td>226</td>\n",
       "      <td>433</td>\n",
       "      <td>550</td>\n",
       "    </tr>\n",
       "    <tr>\n",
       "      <th>maxi 10 Runs/Level</th>\n",
       "      <td>214</td>\n",
       "      <td>415</td>\n",
       "      <td>552</td>\n",
       "    </tr>\n",
       "  </tbody>\n",
       "</table>\n",
       "</div>"
      ],
      "text/plain": [
       "                    read heavy(.8)  read-write balanced(.5)  write heavy(.2)\n",
       "maxi 2 Runs/Level              218                      402              561\n",
       "maxi 4 Runs/Level              222                      421              548\n",
       "maxi 6 Runs/Level              206                      421              549\n",
       "maxi 8 Runs/Level              226                      433              550\n",
       "maxi 10 Runs/Level             214                      415              552"
      ]
     },
     "execution_count": 18,
     "metadata": {},
     "output_type": "execute_result"
    }
   ],
   "source": [
    "import pandas as pd \n",
    "  \n",
    "# initialise data of lists. \n",
    "data = {'read heavy(.8)':[218, 222, 206, 226, 214], 'read-write balanced(.5)':[402, 421, 421, 433, 415], \\\n",
    "        'write heavy(.2)': [561, 548, 549, 550, 552]} \n",
    "  \n",
    "# Creates pandas DataFrame. \n",
    "df = pd.DataFrame(data, index =['maxi 2 Runs/Level', 'maxi 4 Runs/Level', \\\n",
    "                                'maxi 6 Runs/Level', 'maxi 8 Runs/Level', \\\n",
    "                                'maxi 10 Runs/Level']) \n",
    "  \n",
    "# print the data \n",
    "df "
   ]
  },
  {
   "cell_type": "code",
   "execution_count": null,
   "metadata": {},
   "outputs": [],
   "source": []
  }
 ],
 "metadata": {
  "kernelspec": {
   "display_name": "Python 3",
   "language": "python",
   "name": "python3"
  },
  "language_info": {
   "codemirror_mode": {
    "name": "ipython",
    "version": 3
   },
   "file_extension": ".py",
   "mimetype": "text/x-python",
   "name": "python",
   "nbconvert_exporter": "python",
   "pygments_lexer": "ipython3",
   "version": "3.7.1"
  }
 },
 "nbformat": 4,
 "nbformat_minor": 2
}
